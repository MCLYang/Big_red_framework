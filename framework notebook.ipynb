{
 "cells": [
  {
   "cell_type": "code",
   "execution_count": 13,
   "metadata": {},
   "outputs": [],
   "source": [
    "from __future__ import print_function\n",
    "import sys\n",
    "sys.path.append('../')\n",
    "sys.path.append('/')\n",
    "import argparse\n",
    "import os\n",
    "import random\n",
    "import torch\n",
    "import torch.nn.parallel\n",
    "import torch.optim as optim\n",
    "import torch.utils.data\n",
    "from tqdm import tqdm\n",
    "import numpy as np\n",
    "import pdb\n",
    "from glob import glob\n",
    "import pandas as pd\n",
    "from metrics import AverageMeter\n",
    "import time\n",
    "import wandb\n",
    "from pytorch_lightning.core.lightning import LightningModule\n",
    "from pytorch_lightning import Trainer\n",
    "from pytorch_lightning.callbacks import Callback\n",
    "from pytorch_lightning.callbacks import ModelCheckpoint\n",
    "from pytorch_lightning.callbacks import GradientAccumulationScheduler"
   ]
  },
  {
   "cell_type": "code",
   "execution_count": null,
   "metadata": {},
   "outputs": [],
   "source": [
    "from pytorch_lightning.callbacks import LearningRateLogger\n",
    "class LitProgressBar(ProgressBar):\n",
    "def init_validation_tqdm(self):\n",
    "bar = super().init_validation_tqdm()\n",
    "bar.set_description('running validation ...')\n",
    "return bar\n",
    "bar = LitProgressBar()\n",
    "trainer = Trainer(callbacks=[bar])"
   ]
  },
  {
   "cell_type": "code",
   "execution_count": 14,
   "metadata": {},
   "outputs": [],
   "source": [
    "\n",
    "class MyPrintingCallback(Callback):\n",
    "    def on_init_start(self, trainer):\n",
    "        print('Starting to init trainer!')\n",
    "    def on_init_end(self, trainer):\n",
    "        print('trainer is init now')\n",
    "    def on_train_end(self, trainer, pl_module):\n",
    "        print('do something when training ends')\n"
   ]
  },
  {
   "cell_type": "code",
   "execution_count": 15,
   "metadata": {},
   "outputs": [
    {
     "name": "stderr",
     "output_type": "stream",
     "text": [
      "INFO:lightning:GPU available: True, used: False\n"
     ]
    },
    {
     "name": "stdout",
     "output_type": "stream",
     "text": [
      "Starting to init trainer!\n",
      "trainer is init now\n"
     ]
    }
   ],
   "source": [
    "on_batch_end(trainer, pl_module)\n",
    "Called when the training batch ends.\n",
    "on_batch_start(trainer, pl_module)\n",
    "Called when the training batch begins.\n",
    "on_epoch_end(trainer, pl_module)\n",
    "Called when the epoch ends.\n",
    "on_epoch_start(trainer, pl_module)\n",
    "Called when the epoch begins.\n",
    "on_init_end(trainer)\n",
    "Called when the trainer initialization ends, model has not yet been set.\n",
    "on_init_start(trainer)\n",
    "Called when the trainer initialization begins, model has not yet been set.\n",
    "on_sanity_check_end(trainer, pl_module)\n",
    "Called when the validation sanity check ends.\n",
    "on_sanity_check_start(trainer, pl_module)\n",
    "Called when the validation sanity check starts.\n",
    "on_test_batch_end(trainer, pl_module)\n",
    "Called when the test batch ends.\n",
    "on_test_batch_start(trainer, pl_module)\n",
    "Called when the test batch begins.\n",
    "on_test_end(trainer, pl_module)\n",
    "Called when the test ends.\n",
    "on_test_start(trainer, pl_module)\n",
    "Called when the test begins.\n",
    "on_train_end(trainer, pl_module)\n",
    "Called when the train ends.\n",
    "on_train_start(trainer, pl_module)\n",
    "Called when the train begins.\n",
    "on_validation_batch_end(trainer, pl_module)\n",
    "Called when the validation batch ends.\n",
    "on_validation_batch_start(trainer, pl_module)\n",
    "Called when the validation batch begins.\n",
    "on_validation_end(trainer, pl_module)\n",
    "Called when the validation loop ends.\n",
    "on_validation_start(trainer, pl_module)\n",
    "Called when the validation loop begins.\n",
    "trainer = Trainer(callbacks=[MyPrintingCallback()])"
   ]
  },
  {
   "cell_type": "code",
   "execution_count": null,
   "metadata": {},
   "outputs": [],
   "source": []
  },
  {
   "cell_type": "code",
   "execution_count": 9,
   "metadata": {},
   "outputs": [],
   "source": [
    "class LitModel(LightningModule):\n",
    "    def __init__(self):\n",
    "        super().__init__()\n",
    "        self.l1 = torch.nn.Linear(28 * 28, 10)\n",
    "    def forward(self, x):\n",
    "        return torch.relu(self.l1(x.view(x.size(0), -1)))\n",
    "    \n",
    "    def training_step(self, batch, batch_idx):\n",
    "        x, y = batch\n",
    "        y_hat = self(x)\n",
    "        loss = F.cross_entropy(y_hat, y)\n",
    "        tensorboard_logs = {'train_loss': loss}\n",
    "        return {'loss': loss, 'log': tensorboard_logs}\n",
    "    def configure_optimizers(self):\n",
    "        return torch.optim.Adam(self.parameters(), lr=0.001)\n",
    "    def train_dataloader(self):\n",
    "        dataset = MNIST(os.getcwd(), train=True, download=True, transform=transforms.\n",
    "        ˓→ToTensor())\n",
    "        loader = DataLoader(dataset, batch_size=32, num_workers=4, shuffle=True)\n",
    "        return loader\n",
    "    @staticmethod\n",
    "    def add_model_specific_args(parent_parser):\n",
    "        parser = ArgumentParser(parents=[parent_parser], add_help=False)\n",
    "        parser.add_argument('--encoder_layers', type=int, default=12)\n",
    "        parser.add_argument('--data_path', type=str, default='/some/path')\n",
    "        return parser"
   ]
  },
  {
   "cell_type": "code",
   "execution_count": null,
   "metadata": {},
   "outputs": [],
   "source": [
    "from argparse import ArgumentParser\n",
    "parser = ArgumentParser()\n",
    "# add PROGRAM level args\n",
    "parser.add_argument('--conda_env', type=str, default='some_name')\n",
    "parser.add_argument('--notification_email', type=str, default='will@email.com')\n",
    "# add model specific args\n",
    "parser = LitModel.add_model_specific_args(parser)"
   ]
  },
  {
   "cell_type": "code",
   "execution_count": null,
   "metadata": {},
   "outputs": [],
   "source": [
    "model = LitModel()\n",
    "# most basic trainer, uses good defaults\n",
    "trainer = Trainer(gpus=8, num_nodes=1)\n",
    "trainer.fit(model)"
   ]
  },
  {
   "cell_type": "code",
   "execution_count": null,
   "metadata": {},
   "outputs": [],
   "source": [
    "class LitModel(LightningModule):\n",
    "    def validation_step(self, batch, batch_idx):\n",
    "        x, y = batch\n",
    "        y_hat = self(x)\n",
    "        return {'val_loss': F.cross_entropy(y_hat, y)}\n",
    "    def validation_epoch_end(self, outputs):\n",
    "        avg_loss = torch.stack([x['val_loss'] for x in outputs]).mean()\n",
    "        tensorboard_logs = {'val_loss': avg_loss}\n",
    "        return {'val_loss': avg_loss, 'log': tensorboard_logs}\n",
    "    def val_dataloader(self):\n",
    "        # TODO: do a real train/val split\n",
    "        dataset = MNIST(os.getcwd(), train=False, download=True, transform=transforms.ToTensor())\n",
    "        loader = DataLoader(dataset, batch_size=32, num_workers=4)\n",
    "    return loader"
   ]
  },
  {
   "cell_type": "code",
   "execution_count": null,
   "metadata": {},
   "outputs": [],
   "source": [
    "class LitModel(LightningModule):\n",
    "    def test_step(self, batch, batch_idx):\n",
    "        x, y = batch\n",
    "        y_hat = self(x)\n",
    "        return {'test_loss': F.cross_entropy(y_hat, y)}\n",
    "    def test_epoch_end(self, outputs):\n",
    "        avg_loss = torch.stack([x['test_loss'] for x in outputs]).mean()\n",
    "        tensorboard_logs = {'test_loss': avg_loss}\n",
    "        return {'avg_test_loss': avg_loss, 'log': tensorboard_logs}\n",
    "    def test_dataloader(self):\n",
    "        # TODO: do a real train/val split\n",
    "        dataset = MNIST(os.getcwd(), train=False, download=True, transform=transforms.ToTensor())\n",
    "        loader = DataLoader(dataset, batch_size=32, num_workers=4)\n",
    "    return loader"
   ]
  },
  {
   "cell_type": "code",
   "execution_count": null,
   "metadata": {},
   "outputs": [],
   "source": []
  },
  {
   "cell_type": "code",
   "execution_count": null,
   "metadata": {},
   "outputs": [],
   "source": []
  },
  {
   "cell_type": "code",
   "execution_count": null,
   "metadata": {},
   "outputs": [],
   "source": []
  },
  {
   "cell_type": "code",
   "execution_count": null,
   "metadata": {},
   "outputs": [],
   "source": []
  }
 ],
 "metadata": {
  "kernelspec": {
   "display_name": "Python 3",
   "language": "python",
   "name": "python3"
  },
  "language_info": {
   "codemirror_mode": {
    "name": "ipython",
    "version": 3
   },
   "file_extension": ".py",
   "mimetype": "text/x-python",
   "name": "python",
   "nbconvert_exporter": "python",
   "pygments_lexer": "ipython3",
   "version": "3.7.6"
  }
 },
 "nbformat": 4,
 "nbformat_minor": 4
}
